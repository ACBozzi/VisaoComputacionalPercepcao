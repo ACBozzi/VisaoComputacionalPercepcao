{
  "nbformat": 4,
  "nbformat_minor": 0,
  "metadata": {
    "colab": {
      "provenance": []
    },
    "kernelspec": {
      "name": "python3",
      "display_name": "Python 3"
    },
    "language_info": {
      "name": "python"
    }
  },
  "cells": [
    {
      "cell_type": "code",
      "source": [
        "from google.colab import drive\n",
        "drive.mount('/content/drive', force_remount=True)"
      ],
      "metadata": {
        "id": "ZI5Co1APZ7Rf"
      },
      "execution_count": null,
      "outputs": []
    },
    {
      "cell_type": "code",
      "execution_count": 2,
      "metadata": {
        "id": "AjyvGO3jZ0LT"
      },
      "outputs": [],
      "source": [
        "import numpy as np\n",
        "import matplotlib.pyplot as plt\n",
        "from google.colab.patches import cv2_imshow\n",
        "import cv2"
      ]
    },
    {
      "cell_type": "code",
      "source": [
        "#roi é o objeto ou região do objeto que precisamos encontrar\n",
        "roi = cv2.imread('/content/drive/My Drive/T3/fotos/objetos/pendrive.jpeg')\n",
        "hsv = cv2.cvtColor(roi,cv2.COLOR_BGR2HSV)\n",
        "cv2_imshow(roi)\n",
        "#target é a imagem em que buscamos\n",
        "target = cv2.imread('/content/drive/My Drive/T3/fotos/4.jpeg')\n",
        "hsvt = cv2.cvtColor(target,cv2.COLOR_BGR2HSV)\n",
        "# cv2_imshow(target)\n"
      ],
      "metadata": {
        "id": "b48P8t9J9dpy"
      },
      "execution_count": null,
      "outputs": []
    },
    {
      "cell_type": "code",
      "source": [
        "histSize = max(25,2)\n",
        "ranges = [0, 180] # hue_range\n",
        "# calculating object histogram\n",
        "roihist = cv2.calcHist([hsv],[0], None, [histSize], ranges, accumulate=False )"
      ],
      "metadata": {
        "id": "4LAsQBh-a1c6"
      },
      "execution_count": 73,
      "outputs": []
    },
    {
      "cell_type": "code",
      "source": [
        "#  plt.hist(roi.ravel(),256,[0,256])\n",
        "#  plt.show()"
      ],
      "metadata": {
        "id": "4O-Q7G6Zdp-s"
      },
      "execution_count": null,
      "outputs": []
    },
    {
      "cell_type": "code",
      "source": [
        "#  plt.hist(target.ravel(),256,[0,256])\n",
        "#  plt.show()"
      ],
      "metadata": {
        "id": "-Bk63ad7eEY5"
      },
      "execution_count": null,
      "outputs": []
    },
    {
      "cell_type": "code",
      "source": [
        "# normalize histogram and apply backprojection\n",
        "cv2.normalize(roihist,roihist,alpha=0, beta=255, norm_type=cv2.NORM_MINMAX)\n",
        "dst = cv2.calcBackProject([hsvt],[0],roihist,ranges,1)\n",
        "\n",
        "# Now convolute with circular disc\n",
        "disc = cv2.getStructuringElement(cv2.MORPH_ELLIPSE,(5,5))\n",
        "cv2.filter2D(dst,-1,disc,dst)\n",
        "\n",
        "# threshold and binary AND\n",
        "ret,thresh = cv2.threshold(dst,50,255,0)\n",
        "thresh = cv2.merge((thresh,thresh,thresh))\n",
        "res = cv2.bitwise_and(target,thresh)\n",
        "\n",
        "res = np.vstack((target,thresh,res)) \n",
        "cv2_imshow(res)"
      ],
      "metadata": {
        "id": "0XBouVlJ33-Y"
      },
      "execution_count": null,
      "outputs": []
    }
  ]
}